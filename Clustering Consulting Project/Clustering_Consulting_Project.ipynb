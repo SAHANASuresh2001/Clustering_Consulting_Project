{
 "cells": [
  {
   "cell_type": "markdown",
   "metadata": {
    "id": "P64HhQqgBZIh"
   },
   "source": [
    "# Clustering Consulting Project \n",
    "\n",
    "A large technology firm needs your help, they've been hacked! Luckily their forensic engineers have grabbed valuable data about the hacks, including information like session time,locations, wpm typing speed, etc. The forensic engineer relates to you what she has been able to figure out so far, she has been able to grab meta data of each session that the hackers used to connect to their servers. These are the features of the data:\n",
    "\n",
    "* 'Session_Connection_Time': How long the session lasted in minutes\n",
    "* 'Bytes Transferred': Number of MB transferred during session\n",
    "* 'Kali_Trace_Used': Indicates if the hacker was using Kali Linux\n",
    "* 'Servers_Corrupted': Number of server corrupted during the attack\n",
    "* 'Pages_Corrupted': Number of pages illegally accessed\n",
    "* 'Location': Location attack came from (Probably useless because the hackers used VPNs)\n",
    "* 'WPM_Typing_Speed': Their estimated typing speed based on session logs.\n",
    "\n",
    "\n",
    "The technology firm has 3 potential hackers that perpetrated the attack. Their certain of the first two hackers but they aren't very sure if the third hacker was involved or not. They have requested your help! Can you help figure out whether or not the third suspect had anything to do with the attacks, or was it just two hackers? It's probably not possible to know for sure, but maybe what you've just learned about Clustering can help!\n",
    "\n",
    "**One last key fact, the forensic engineer knows that the hackers trade off attacks. Meaning they should each have roughly the same amount of attacks. For example if there were 100 total attacks, then in a 2 hacker situation each should have about 50 hacks, in a three hacker situation each would have about 33 hacks. The engineer believes this is the key element to solving this, but doesn't know how to distinguish this unlabeled data into groups of hackers.**"
   ]
  },
  {
   "cell_type": "markdown",
   "metadata": {
    "id": "jBMzIUaQDzas"
   },
   "source": [
    "\n",
    "**Clustering** **Consulting** **Project**"
   ]
  },
  {
   "cell_type": "code",
   "execution_count": 224,
   "metadata": {
    "colab": {
     "base_uri": "https://localhost:8080/"
    },
    "executionInfo": {
     "elapsed": 3826,
     "status": "ok",
     "timestamp": 1672309020472,
     "user": {
      "displayName": "Sahana S",
      "userId": "12395136342914479870"
     },
     "user_tz": -330
    },
    "id": "AyU8Rp4ED5S-",
    "outputId": "cfbbd13f-833e-4c04-facf-caf71b38d174"
   },
   "outputs": [
    {
     "name": "stdout",
     "output_type": "stream",
     "text": [
      "Looking in indexes: https://pypi.org/simple, https://us-python.pkg.dev/colab-wheels/public/simple/\n",
      "Requirement already satisfied: pyspark in /usr/local/lib/python3.8/dist-packages (3.3.1)\n",
      "Requirement already satisfied: py4j==0.10.9.5 in /usr/local/lib/python3.8/dist-packages (from pyspark) (0.10.9.5)\n"
     ]
    }
   ],
   "source": [
    "!pip install pyspark"
   ]
  },
  {
   "cell_type": "code",
   "execution_count": 258,
   "metadata": {
    "executionInfo": {
     "elapsed": 3,
     "status": "ok",
     "timestamp": 1672309425155,
     "user": {
      "displayName": "Sahana S",
      "userId": "12395136342914479870"
     },
     "user_tz": -330
    },
    "id": "z4oXFvwcD-Jy"
   },
   "outputs": [],
   "source": [
    "from pyspark.sql import SparkSession\n",
    "from pyspark.ml import Pipeline\n",
    "from pyspark.sql.functions import mean,col,split, col, regexp_extract, when, lit\n",
    "from pyspark.ml.feature import StringIndexer\n",
    "from pyspark.ml.linalg import Vectors\n",
    "from pyspark.ml.feature import VectorAssembler\n",
    "from pyspark.ml.evaluation import MulticlassClassificationEvaluator\n",
    "from pyspark.ml.feature import QuantileDiscretizer"
   ]
  },
  {
   "cell_type": "code",
   "execution_count": 259,
   "metadata": {
    "executionInfo": {
     "elapsed": 3,
     "status": "ok",
     "timestamp": 1672309426654,
     "user": {
      "displayName": "Sahana S",
      "userId": "12395136342914479870"
     },
     "user_tz": -330
    },
    "id": "0q5nsz7ZEgwc"
   },
   "outputs": [],
   "source": [
    "spark = SparkSession \\\n",
    "    .builder \\\n",
    "    .appName(\"Spark ML example on clustering consulting project \") \\\n",
    "    .getOrCreate()"
   ]
  },
  {
   "cell_type": "code",
   "execution_count": 260,
   "metadata": {
    "colab": {
     "base_uri": "https://localhost:8080/",
     "height": 219
    },
    "executionInfo": {
     "elapsed": 17,
     "status": "ok",
     "timestamp": 1672309428169,
     "user": {
      "displayName": "Sahana S",
      "userId": "12395136342914479870"
     },
     "user_tz": -330
    },
    "id": "X38YmUw4SDJh",
    "outputId": "3c6cf3e8-136e-4d6e-d403-94d86fde28e0"
   },
   "outputs": [
    {
     "data": {
      "text/html": [
       "\n",
       "            <div>\n",
       "                <p><b>SparkSession - in-memory</b></p>\n",
       "                \n",
       "        <div>\n",
       "            <p><b>SparkContext</b></p>\n",
       "\n",
       "            <p><a href=\"http://8feb6f1cdfbd:4040\">Spark UI</a></p>\n",
       "\n",
       "            <dl>\n",
       "              <dt>Version</dt>\n",
       "                <dd><code>v3.3.1</code></dd>\n",
       "              <dt>Master</dt>\n",
       "                <dd><code>local[*]</code></dd>\n",
       "              <dt>AppName</dt>\n",
       "                <dd><code>Spark ML example on clustering consulting project </code></dd>\n",
       "            </dl>\n",
       "        </div>\n",
       "        \n",
       "            </div>\n",
       "        "
      ],
      "text/plain": [
       "<pyspark.sql.session.SparkSession at 0x7fb9d8c87b80>"
      ]
     },
     "execution_count": 260,
     "metadata": {},
     "output_type": "execute_result"
    }
   ],
   "source": [
    "spark"
   ]
  },
  {
   "cell_type": "code",
   "execution_count": 261,
   "metadata": {
    "executionInfo": {
     "elapsed": 4,
     "status": "ok",
     "timestamp": 1672309429629,
     "user": {
      "displayName": "Sahana S",
      "userId": "12395136342914479870"
     },
     "user_tz": -330
    },
    "id": "_b6jiCM0E5su"
   },
   "outputs": [],
   "source": [
    "data_path =\"/content/hack_data.csv\""
   ]
  },
  {
   "cell_type": "code",
   "execution_count": 262,
   "metadata": {
    "executionInfo": {
     "elapsed": 4,
     "status": "ok",
     "timestamp": 1672309431252,
     "user": {
      "displayName": "Sahana S",
      "userId": "12395136342914479870"
     },
     "user_tz": -330
    },
    "id": "qmG0grSlFHpR"
   },
   "outputs": [],
   "source": [
    "clustering_df = spark.read.csv(data_path,header = 'True',inferSchema='True')"
   ]
  },
  {
   "cell_type": "code",
   "execution_count": 263,
   "metadata": {
    "colab": {
     "base_uri": "https://localhost:8080/"
    },
    "executionInfo": {
     "elapsed": 9,
     "status": "ok",
     "timestamp": 1672309432745,
     "user": {
      "displayName": "Sahana S",
      "userId": "12395136342914479870"
     },
     "user_tz": -330
    },
    "id": "hv6QfT8JHZ0r",
    "outputId": "ebb6189f-8d39-4113-9d74-cf53b9b16017"
   },
   "outputs": [
    {
     "data": {
      "text/plain": [
       "['Session_Connection_Time',\n",
       " 'Bytes Transferred',\n",
       " 'Kali_Trace_Used',\n",
       " 'Servers_Corrupted',\n",
       " 'Pages_Corrupted',\n",
       " 'Location',\n",
       " 'WPM_Typing_Speed']"
      ]
     },
     "execution_count": 263,
     "metadata": {},
     "output_type": "execute_result"
    }
   ],
   "source": [
    "clustering_df.columns\n",
    "\n"
   ]
  },
  {
   "cell_type": "code",
   "execution_count": 264,
   "metadata": {
    "colab": {
     "base_uri": "https://localhost:8080/"
    },
    "executionInfo": {
     "elapsed": 11,
     "status": "ok",
     "timestamp": 1672309434075,
     "user": {
      "displayName": "Sahana S",
      "userId": "12395136342914479870"
     },
     "user_tz": -330
    },
    "id": "YGGJIMC5SMq3",
    "outputId": "91a1a233-e9f8-4e33-b32c-b900191fb792"
   },
   "outputs": [
    {
     "data": {
      "text/plain": [
       "[('Session_Connection_Time', 'double'),\n",
       " ('Bytes Transferred', 'double'),\n",
       " ('Kali_Trace_Used', 'int'),\n",
       " ('Servers_Corrupted', 'double'),\n",
       " ('Pages_Corrupted', 'double'),\n",
       " ('Location', 'string'),\n",
       " ('WPM_Typing_Speed', 'double')]"
      ]
     },
     "execution_count": 264,
     "metadata": {},
     "output_type": "execute_result"
    }
   ],
   "source": [
    "clustering_df.dtypes\n",
    "\n"
   ]
  },
  {
   "cell_type": "code",
   "execution_count": 265,
   "metadata": {
    "colab": {
     "base_uri": "https://localhost:8080/"
    },
    "executionInfo": {
     "elapsed": 6,
     "status": "ok",
     "timestamp": 1672309436060,
     "user": {
      "displayName": "Sahana S",
      "userId": "12395136342914479870"
     },
     "user_tz": -330
    },
    "id": "-a0T9e6dFQXy",
    "outputId": "8e268673-61c5-4464-d65a-9962e6f4e792"
   },
   "outputs": [
    {
     "name": "stdout",
     "output_type": "stream",
     "text": [
      "+-----------------------+-----------------+---------------+-----------------+---------------+--------------------+----------------+\n",
      "|Session_Connection_Time|Bytes Transferred|Kali_Trace_Used|Servers_Corrupted|Pages_Corrupted|            Location|WPM_Typing_Speed|\n",
      "+-----------------------+-----------------+---------------+-----------------+---------------+--------------------+----------------+\n",
      "|                    8.0|           391.09|              1|             2.96|            7.0|            Slovenia|           72.37|\n",
      "|                   20.0|           720.99|              0|             3.04|            9.0|British Virgin Is...|           69.08|\n",
      "|                   31.0|           356.32|              1|             3.71|            8.0|             Tokelau|           70.58|\n",
      "|                    2.0|           228.08|              1|             2.48|            8.0|             Bolivia|            70.8|\n",
      "|                   20.0|            408.5|              0|             3.57|            8.0|                Iraq|           71.28|\n",
      "|                    1.0|           390.69|              1|             2.79|            9.0|    Marshall Islands|           71.57|\n",
      "|                   18.0|           342.97|              1|              5.1|            7.0|             Georgia|           72.32|\n",
      "|                   22.0|           101.61|              1|             3.03|            7.0|         Timor-Leste|           72.03|\n",
      "|                   15.0|           275.53|              1|             3.53|            8.0|Palestinian Terri...|           70.17|\n",
      "|                   12.0|           424.83|              1|             2.53|            8.0|          Bangladesh|           69.99|\n",
      "|                   15.0|           249.09|              1|             3.39|            9.0|Northern Mariana ...|           70.77|\n",
      "|                   32.0|           242.48|              0|             4.24|            8.0|            Zimbabwe|           67.93|\n",
      "|                   23.0|           514.54|              0|             3.18|            8.0|         Isle of Man|           68.56|\n",
      "|                    9.0|           284.77|              0|             3.12|            9.0|Sao Tome and Prin...|           70.82|\n",
      "|                   27.0|           779.25|              1|             2.37|            8.0|              Greece|           72.73|\n",
      "|                   12.0|           307.31|              1|             3.22|            7.0|     Solomon Islands|           67.95|\n",
      "|                   21.0|           355.94|              1|              2.0|            7.0|       Guinea-Bissau|            72.0|\n",
      "|                   10.0|           372.65|              0|             3.33|            7.0|        Burkina Faso|           69.19|\n",
      "|                   20.0|           347.23|              1|             2.33|            7.0|            Mongolia|           70.41|\n",
      "|                   22.0|           456.57|              0|             1.52|            8.0|             Nigeria|           69.35|\n",
      "+-----------------------+-----------------+---------------+-----------------+---------------+--------------------+----------------+\n",
      "only showing top 20 rows\n",
      "\n"
     ]
    }
   ],
   "source": [
    "clustering_df.show()"
   ]
  },
  {
   "cell_type": "code",
   "execution_count": 266,
   "metadata": {
    "colab": {
     "base_uri": "https://localhost:8080/"
    },
    "executionInfo": {
     "elapsed": 649,
     "status": "ok",
     "timestamp": 1672309438194,
     "user": {
      "displayName": "Sahana S",
      "userId": "12395136342914479870"
     },
     "user_tz": -330
    },
    "id": "JqB2-gf1Fd_t",
    "outputId": "d2cf50e6-ad16-48b1-9766-3ecfc7eef4bb"
   },
   "outputs": [
    {
     "name": "stdout",
     "output_type": "stream",
     "text": [
      "+-------+-----------------------+------------------+------------------+-----------------+------------------+-----------+------------------+\n",
      "|summary|Session_Connection_Time| Bytes Transferred|   Kali_Trace_Used|Servers_Corrupted|   Pages_Corrupted|   Location|  WPM_Typing_Speed|\n",
      "+-------+-----------------------+------------------+------------------+-----------------+------------------+-----------+------------------+\n",
      "|  count|                    334|               334|               334|              334|               334|        334|               334|\n",
      "|   mean|     30.008982035928145| 607.2452694610777|0.5119760479041916|5.258502994011977|10.838323353293413|       null|57.342395209580864|\n",
      "| stddev|     14.088200614636158|286.33593163576757|0.5006065264451406| 2.30190693339697|  3.06352633036022|       null| 13.41106336843464|\n",
      "|    min|                    1.0|              10.0|                 0|              1.0|               6.0|Afghanistan|              40.0|\n",
      "|    max|                   60.0|            1330.5|                 1|             10.0|              15.0|   Zimbabwe|              75.0|\n",
      "+-------+-----------------------+------------------+------------------+-----------------+------------------+-----------+------------------+\n",
      "\n"
     ]
    }
   ],
   "source": [
    "clustering_df.describe().show()"
   ]
  },
  {
   "cell_type": "code",
   "execution_count": 267,
   "metadata": {
    "colab": {
     "base_uri": "https://localhost:8080/"
    },
    "executionInfo": {
     "elapsed": 5,
     "status": "ok",
     "timestamp": 1672309439517,
     "user": {
      "displayName": "Sahana S",
      "userId": "12395136342914479870"
     },
     "user_tz": -330
    },
    "id": "1TnJu7N4Frnd",
    "outputId": "5dfdfbec-40e5-4c22-b835-970d03bbd747"
   },
   "outputs": [
    {
     "name": "stdout",
     "output_type": "stream",
     "text": [
      "root\n",
      " |-- Session_Connection_Time: double (nullable = true)\n",
      " |-- Bytes Transferred: double (nullable = true)\n",
      " |-- Kali_Trace_Used: integer (nullable = true)\n",
      " |-- Servers_Corrupted: double (nullable = true)\n",
      " |-- Pages_Corrupted: double (nullable = true)\n",
      " |-- Location: string (nullable = true)\n",
      " |-- WPM_Typing_Speed: double (nullable = true)\n",
      "\n"
     ]
    }
   ],
   "source": [
    "clustering_df.printSchema()"
   ]
  },
  {
   "cell_type": "code",
   "execution_count": 268,
   "metadata": {
    "executionInfo": {
     "elapsed": 3,
     "status": "ok",
     "timestamp": 1672309441261,
     "user": {
      "displayName": "Sahana S",
      "userId": "12395136342914479870"
     },
     "user_tz": -330
    },
    "id": "_Wp_ue3dFyIL"
   },
   "outputs": [],
   "source": [
    "# This function use to print feature with null values and null count \n",
    "def null_value_count(df):\n",
    "  null_columns_counts = []\n",
    "  numRows = df.count()\n",
    "  for k in df.columns:\n",
    "    nullRows = df.where(col(k).isNull()).count()\n",
    "    if(nullRows > 0):\n",
    "      temp = k,nullRows\n",
    "      null_columns_counts.append(temp)\n",
    "  return(null_columns_counts)"
   ]
  },
  {
   "cell_type": "code",
   "execution_count": 269,
   "metadata": {
    "colab": {
     "base_uri": "https://localhost:8080/"
    },
    "executionInfo": {
     "elapsed": 1105,
     "status": "ok",
     "timestamp": 1672309444049,
     "user": {
      "displayName": "Sahana S",
      "userId": "12395136342914479870"
     },
     "user_tz": -330
    },
    "id": "LZq3LCRSGBL9",
    "outputId": "46a8a22e-74a7-4b15-82c2-c1073001a65a"
   },
   "outputs": [
    {
     "data": {
      "text/plain": [
       "[]"
      ]
     },
     "execution_count": 269,
     "metadata": {},
     "output_type": "execute_result"
    }
   ],
   "source": [
    "null_value_count(clustering_df)"
   ]
  },
  {
   "cell_type": "code",
   "execution_count": 270,
   "metadata": {
    "colab": {
     "base_uri": "https://localhost:8080/"
    },
    "executionInfo": {
     "elapsed": 8,
     "status": "ok",
     "timestamp": 1672309444434,
     "user": {
      "displayName": "Sahana S",
      "userId": "12395136342914479870"
     },
     "user_tz": -330
    },
    "id": "MhJITBnpGhoB",
    "outputId": "958e114c-ca8d-43ed-d040-4422e0adfc32"
   },
   "outputs": [
    {
     "name": "stdout",
     "output_type": "stream",
     "text": [
      "+--------------------+\n",
      "|            Location|\n",
      "+--------------------+\n",
      "|            Anguilla|\n",
      "|            Paraguay|\n",
      "|               Macao|\n",
      "|Heard Island and ...|\n",
      "|               Yemen|\n",
      "|             Tokelau|\n",
      "|              Sweden|\n",
      "|French Southern T...|\n",
      "|            Kiribati|\n",
      "|              Guyana|\n",
      "|         Philippines|\n",
      "|            Malaysia|\n",
      "|           Singapore|\n",
      "|United States Vir...|\n",
      "|              Turkey|\n",
      "|      Western Sahara|\n",
      "|              Malawi|\n",
      "|                Iraq|\n",
      "|Northern Mariana ...|\n",
      "|             Germany|\n",
      "+--------------------+\n",
      "only showing top 20 rows\n",
      "\n"
     ]
    }
   ],
   "source": [
    "clustering_df.select(\"Location\").distinct().show()"
   ]
  },
  {
   "cell_type": "code",
   "execution_count": 271,
   "metadata": {
    "executionInfo": {
     "elapsed": 3,
     "status": "ok",
     "timestamp": 1672309445777,
     "user": {
      "displayName": "Sahana S",
      "userId": "12395136342914479870"
     },
     "user_tz": -330
    },
    "id": "BobR-BJQG4-N"
   },
   "outputs": [],
   "source": [
    "df=clustering_df.drop(\"Location\")"
   ]
  },
  {
   "cell_type": "code",
   "execution_count": 272,
   "metadata": {
    "colab": {
     "base_uri": "https://localhost:8080/"
    },
    "executionInfo": {
     "elapsed": 9,
     "status": "ok",
     "timestamp": 1672309447969,
     "user": {
      "displayName": "Sahana S",
      "userId": "12395136342914479870"
     },
     "user_tz": -330
    },
    "id": "dHV3WQVvHxPl",
    "outputId": "cd5c6f7c-3711-49ac-b19e-a8128a4400de"
   },
   "outputs": [
    {
     "data": {
      "text/plain": [
       "DataFrame[Session_Connection_Time: double, Bytes Transferred: double, Kali_Trace_Used: int, Servers_Corrupted: double, Pages_Corrupted: double, WPM_Typing_Speed: double]"
      ]
     },
     "execution_count": 272,
     "metadata": {},
     "output_type": "execute_result"
    }
   ],
   "source": [
    "df"
   ]
  },
  {
   "cell_type": "code",
   "execution_count": 273,
   "metadata": {
    "colab": {
     "base_uri": "https://localhost:8080/"
    },
    "executionInfo": {
     "elapsed": 9,
     "status": "ok",
     "timestamp": 1672309449661,
     "user": {
      "displayName": "Sahana S",
      "userId": "12395136342914479870"
     },
     "user_tz": -330
    },
    "id": "n2mryX1QHyE2",
    "outputId": "6a64e1d9-a57c-4853-89eb-c0ca938134f5"
   },
   "outputs": [
    {
     "name": "stdout",
     "output_type": "stream",
     "text": [
      "+-------+-----------------------+------------------+------------------+-----------------+------------------+------------------+\n",
      "|summary|Session_Connection_Time| Bytes Transferred|   Kali_Trace_Used|Servers_Corrupted|   Pages_Corrupted|  WPM_Typing_Speed|\n",
      "+-------+-----------------------+------------------+------------------+-----------------+------------------+------------------+\n",
      "|  count|                    334|               334|               334|              334|               334|               334|\n",
      "|   mean|     30.008982035928145| 607.2452694610777|0.5119760479041916|5.258502994011977|10.838323353293413|57.342395209580864|\n",
      "| stddev|     14.088200614636158|286.33593163576757|0.5006065264451406| 2.30190693339697|  3.06352633036022| 13.41106336843464|\n",
      "|    min|                    1.0|              10.0|                 0|              1.0|               6.0|              40.0|\n",
      "|    max|                   60.0|            1330.5|                 1|             10.0|              15.0|              75.0|\n",
      "+-------+-----------------------+------------------+------------------+-----------------+------------------+------------------+\n",
      "\n"
     ]
    }
   ],
   "source": [
    "df.describe().show()"
   ]
  },
  {
   "cell_type": "code",
   "execution_count": 274,
   "metadata": {
    "colab": {
     "base_uri": "https://localhost:8080/"
    },
    "executionInfo": {
     "elapsed": 10,
     "status": "ok",
     "timestamp": 1672309450992,
     "user": {
      "displayName": "Sahana S",
      "userId": "12395136342914479870"
     },
     "user_tz": -330
    },
    "id": "zLKIoctQH5a1",
    "outputId": "61b9ccc6-8118-4156-f738-db72c47c57d1"
   },
   "outputs": [
    {
     "name": "stdout",
     "output_type": "stream",
     "text": [
      "root\n",
      " |-- Session_Connection_Time: double (nullable = true)\n",
      " |-- Bytes Transferred: double (nullable = true)\n",
      " |-- Kali_Trace_Used: integer (nullable = true)\n",
      " |-- Servers_Corrupted: double (nullable = true)\n",
      " |-- Pages_Corrupted: double (nullable = true)\n",
      " |-- WPM_Typing_Speed: double (nullable = true)\n",
      "\n"
     ]
    }
   ],
   "source": [
    "df.printSchema()"
   ]
  },
  {
   "cell_type": "code",
   "execution_count": 275,
   "metadata": {
    "executionInfo": {
     "elapsed": 4,
     "status": "ok",
     "timestamp": 1672309453111,
     "user": {
      "displayName": "Sahana S",
      "userId": "12395136342914479870"
     },
     "user_tz": -330
    },
    "id": "9ssnmLZHH9d5"
   },
   "outputs": [],
   "source": [
    "\n",
    "#feat_cols = ['Session_Connection_Time', 'Bytes Transferred', 'Kali_Trace_Used',\n",
    "             #'Servers_Corrupted', 'Pages_Corrupted','WPM_Typing_Speed']"
   ]
  },
  {
   "cell_type": "code",
   "execution_count": 276,
   "metadata": {
    "executionInfo": {
     "elapsed": 3,
     "status": "ok",
     "timestamp": 1672309455273,
     "user": {
      "displayName": "Sahana S",
      "userId": "12395136342914479870"
     },
     "user_tz": -330
    },
    "id": "_KHElilJImnM"
   },
   "outputs": [],
   "source": [
    "#vec_assembler = VectorAssembler(inputCols = feat_cols, outputCol='features')"
   ]
  },
  {
   "cell_type": "code",
   "execution_count": 245,
   "metadata": {
    "executionInfo": {
     "elapsed": 4,
     "status": "ok",
     "timestamp": 1672309066302,
     "user": {
      "displayName": "Sahana S",
      "userId": "12395136342914479870"
     },
     "user_tz": -330
    },
    "id": "oYBAFbYBIzV6"
   },
   "outputs": [],
   "source": [
    "#final_data = vec_assembler.transform(df)"
   ]
  },
  {
   "cell_type": "code",
   "execution_count": 277,
   "metadata": {
    "executionInfo": {
     "elapsed": 377,
     "status": "ok",
     "timestamp": 1672309471535,
     "user": {
      "displayName": "Sahana S",
      "userId": "12395136342914479870"
     },
     "user_tz": -330
    },
    "id": "b-CxGVSyJBS8"
   },
   "outputs": [],
   "source": [
    "\n",
    "from pyspark.ml.feature import StandardScaler\n"
   ]
  },
  {
   "cell_type": "code",
   "execution_count": 278,
   "metadata": {
    "executionInfo": {
     "elapsed": 3,
     "status": "ok",
     "timestamp": 1672309473011,
     "user": {
      "displayName": "Sahana S",
      "userId": "12395136342914479870"
     },
     "user_tz": -330
    },
    "id": "pK9CDmGQJJXh"
   },
   "outputs": [],
   "source": [
    "scaler = StandardScaler(inputCol=\"features\", outputCol=\"scaledFeatures\", withStd=True, withMean=True)\n"
   ]
  },
  {
   "cell_type": "code",
   "execution_count": 279,
   "metadata": {
    "executionInfo": {
     "elapsed": 374,
     "status": "ok",
     "timestamp": 1672309475765,
     "user": {
      "displayName": "Sahana S",
      "userId": "12395136342914479870"
     },
     "user_tz": -330
    },
    "id": "utVDaf4GJUrG"
   },
   "outputs": [],
   "source": [
    "# Compute summary statistics by fitting the StandardScaler\n",
    "scalerModel = scaler.fit(final_data)"
   ]
  },
  {
   "cell_type": "code",
   "execution_count": 280,
   "metadata": {
    "executionInfo": {
     "elapsed": 377,
     "status": "ok",
     "timestamp": 1672309478370,
     "user": {
      "displayName": "Sahana S",
      "userId": "12395136342914479870"
     },
     "user_tz": -330
    },
    "id": "EAYMolvRJhQQ"
   },
   "outputs": [],
   "source": [
    "# Normalize each feature to have unit standard deviation.\n",
    "cluster_final_data = scalerModel.transform(final_data)\n"
   ]
  },
  {
   "cell_type": "code",
   "execution_count": 281,
   "metadata": {
    "executionInfo": {
     "elapsed": 1,
     "status": "ok",
     "timestamp": 1672309480099,
     "user": {
      "displayName": "Sahana S",
      "userId": "12395136342914479870"
     },
     "user_tz": -330
    },
    "id": "JwqhfSfSKtwV"
   },
   "outputs": [],
   "source": [
    "from pyspark.ml.clustering import KMeans"
   ]
  },
  {
   "cell_type": "code",
   "execution_count": 251,
   "metadata": {
    "executionInfo": {
     "elapsed": 3,
     "status": "ok",
     "timestamp": 1672309074174,
     "user": {
      "displayName": "Sahana S",
      "userId": "12395136342914479870"
     },
     "user_tz": -330
    },
    "id": "BknVqz4GJtSG"
   },
   "outputs": [],
   "source": [
    "#kmeans3 = KMeans(featuresCol='scaledFeatures',k=3)\n",
    "#kmeans2 = KMeans(featuresCol='scaledFeatures',k=2)"
   ]
  },
  {
   "cell_type": "code",
   "execution_count": 252,
   "metadata": {
    "executionInfo": {
     "elapsed": 2,
     "status": "ok",
     "timestamp": 1672309075740,
     "user": {
      "displayName": "Sahana S",
      "userId": "12395136342914479870"
     },
     "user_tz": -330
    },
    "id": "diNMq7kgJzft"
   },
   "outputs": [],
   "source": [
    "#model_k3 = kmeans3.fit(cluster_final_data)\n",
    "#model_k2 = kmeans2.fit(cluster_final_data)"
   ]
  },
  {
   "cell_type": "code",
   "execution_count": 253,
   "metadata": {
    "executionInfo": {
     "elapsed": 2,
     "status": "ok",
     "timestamp": 1672309076168,
     "user": {
      "displayName": "Sahana S",
      "userId": "12395136342914479870"
     },
     "user_tz": -330
    },
    "id": "-K_3PznKLLiZ"
   },
   "outputs": [],
   "source": [
    "#wssse_k3 = model_k3.computeCost(cluster_final_data)\n",
    "#wssse_k2 = model_k2.computeCost(cluster_final_data)"
   ]
  },
  {
   "cell_type": "code",
   "execution_count": 282,
   "metadata": {
    "executionInfo": {
     "elapsed": 399,
     "status": "ok",
     "timestamp": 1672309494381,
     "user": {
      "displayName": "Sahana S",
      "userId": "12395136342914479870"
     },
     "user_tz": -330
    },
    "id": "52n39qkzNeGi"
   },
   "outputs": [],
   "source": [
    "def meanScore(k,df):\n",
    "  inputCol = df.columns[:]\n",
    "  assembler = VectorAssembler(inputCols=inputCols,outputCol=\"features\")\n",
    "  kmeans = KMeans().setK(k)\n",
    "  pipeModel2 = Pipeline(stages=[vec_assembler,kmeans])\n",
    "  kmeansModel = pipeModel2.fit(df).stages[-1]\n",
    "  kmeansModel.computeCost(assembler.transform(df))/data.count()"
   ]
  },
  {
   "cell_type": "code",
   "execution_count": 283,
   "metadata": {
    "executionInfo": {
     "elapsed": 1055,
     "status": "ok",
     "timestamp": 1672309497272,
     "user": {
      "displayName": "Sahana S",
      "userId": "12395136342914479870"
     },
     "user_tz": -330
    },
    "id": "Z4C5_KpaPl1O"
   },
   "outputs": [],
   "source": [
    "for k in range(2,3):\n",
    "    kmeans = KMeans(featuresCol='scaledFeatures',k=k)\n",
    "    model = kmeans.fit(cluster_final_data)\n",
    "   "
   ]
  },
  {
   "cell_type": "code",
   "execution_count": 284,
   "metadata": {
    "colab": {
     "base_uri": "https://localhost:8080/"
    },
    "executionInfo": {
     "elapsed": 369,
     "status": "ok",
     "timestamp": 1672309499653,
     "user": {
      "displayName": "Sahana S",
      "userId": "12395136342914479870"
     },
     "user_tz": -330
    },
    "id": "5eHE-6D3QkyN",
    "outputId": "3b9bc3a3-0310-469a-cd1e-8fb60bb23afd"
   },
   "outputs": [
    {
     "name": "stdout",
     "output_type": "stream",
     "text": [
      "+----------+-----+\n",
      "|prediction|count|\n",
      "+----------+-----+\n",
      "|         1|   88|\n",
      "|         2|   79|\n",
      "|         0|  167|\n",
      "+----------+-----+\n",
      "\n"
     ]
    }
   ],
   "source": [
    "model_k3.transform(cluster_final_data).groupBy('prediction').count().show()"
   ]
  },
  {
   "cell_type": "code",
   "execution_count": 285,
   "metadata": {
    "colab": {
     "base_uri": "https://localhost:8080/"
    },
    "executionInfo": {
     "elapsed": 664,
     "status": "ok",
     "timestamp": 1672309502058,
     "user": {
      "displayName": "Sahana S",
      "userId": "12395136342914479870"
     },
     "user_tz": -330
    },
    "id": "SFF7TlZ-Qvf2",
    "outputId": "21d736f6-ee33-482d-d9c8-5ec5146db194"
   },
   "outputs": [
    {
     "name": "stdout",
     "output_type": "stream",
     "text": [
      "+----------+-----+\n",
      "|prediction|count|\n",
      "+----------+-----+\n",
      "|         1|  167|\n",
      "|         0|  167|\n",
      "+----------+-----+\n",
      "\n"
     ]
    }
   ],
   "source": [
    "\n",
    "model_k2.transform(cluster_final_data).groupBy('prediction').count().show()"
   ]
  },
  {
   "cell_type": "code",
   "execution_count": null,
   "metadata": {
    "id": "YGgcoO7VQ1r7"
   },
   "outputs": [],
   "source": []
  }
 ],
 "metadata": {
  "anaconda-cloud": {},
  "colab": {
   "provenance": []
  },
  "kernelspec": {
   "display_name": "Python 3 (ipykernel)",
   "language": "python",
   "name": "python3"
  },
  "language_info": {
   "codemirror_mode": {
    "name": "ipython",
    "version": 3
   },
   "file_extension": ".py",
   "mimetype": "text/x-python",
   "name": "python",
   "nbconvert_exporter": "python",
   "pygments_lexer": "ipython3",
   "version": "3.9.13"
  }
 },
 "nbformat": 4,
 "nbformat_minor": 1
}
